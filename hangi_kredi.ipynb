{
  "nbformat": 4,
  "nbformat_minor": 0,
  "metadata": {
    "colab": {
      "name": "hangi_kredi.ipynb",
      "provenance": [],
      "collapsed_sections": []
    },
    "kernelspec": {
      "name": "python3",
      "display_name": "Python 3"
    }
  },
  "cells": [
    {
      "cell_type": "code",
      "metadata": {
        "id": "hEjZTzPbFMdk",
        "outputId": "b043a599-df58-4076-f343-a7f6c71c94c1",
        "colab": {
          "base_uri": "https://localhost:8080/"
        }
      },
      "source": [
        "from google.colab import drive\n",
        "drive.mount('/content/drive')"
      ],
      "execution_count": 2,
      "outputs": [
        {
          "output_type": "stream",
          "text": [
            "Mounted at /content/drive\n"
          ],
          "name": "stdout"
        }
      ]
    },
    {
      "cell_type": "code",
      "metadata": {
        "id": "Idza5INUGV6o",
        "outputId": "99c86369-9646-42b1-cc2d-6577fd1bd210",
        "colab": {
          "base_uri": "https://localhost:8080/"
        }
      },
      "source": [
        "import numpy as np\n",
        "import pandas as pd\n",
        "\n",
        "\n",
        "!pip install sklearn\n",
        "from sklearn.model_selection import  StratifiedKFold\n",
        "from sklearn.naive_bayes import BernoulliNB, GaussianNB\n",
        "from sklearn.linear_model import SGDClassifier\n",
        "from sklearn.neural_network import MLPClassifier\n",
        "from sklearn.neighbors import KNeighborsClassifier\n",
        "from sklearn.svm import SVC\n",
        "from sklearn.gaussian_process import GaussianProcessClassifier\n",
        "from sklearn.gaussian_process.kernels import RBF\n",
        "from sklearn.tree import DecisionTreeClassifier\n",
        "from sklearn.ensemble import RandomForestClassifier, ExtraTreesClassifier\n",
        "from nltk.classify.scikitlearn import SklearnClassifier\n",
        "import random\n",
        "\n",
        "\n",
        "\n",
        "path=\"/content/drive/My Drive/term-deposit-marketing-2020.csv\"\n",
        "df = pd.read_csv(path)\n"
      ],
      "execution_count": 1,
      "outputs": [
        {
          "output_type": "stream",
          "text": [
            "Requirement already satisfied: sklearn in /usr/local/lib/python3.6/dist-packages (0.0)\n",
            "Requirement already satisfied: scikit-learn in /usr/local/lib/python3.6/dist-packages (from sklearn) (0.22.2.post1)\n",
            "Requirement already satisfied: scipy>=0.17.0 in /usr/local/lib/python3.6/dist-packages (from scikit-learn->sklearn) (1.4.1)\n",
            "Requirement already satisfied: joblib>=0.11 in /usr/local/lib/python3.6/dist-packages (from scikit-learn->sklearn) (0.17.0)\n",
            "Requirement already satisfied: numpy>=1.11.0 in /usr/local/lib/python3.6/dist-packages (from scikit-learn->sklearn) (1.18.5)\n"
          ],
          "name": "stdout"
        }
      ]
    },
    {
      "cell_type": "code",
      "metadata": {
        "id": "oyugy1QBizaK"
      },
      "source": [
        "header = list(df.head(0))\n",
        "data = df.drop([0])"
      ],
      "execution_count": 2,
      "outputs": []
    },
    {
      "cell_type": "markdown",
      "metadata": {
        "id": "oghsp6i100Am"
      },
      "source": [
        "Categorical features are transformed into numerical values (unique integers) in order to be able to transform the data into the form of a numpy array."
      ]
    },
    {
      "cell_type": "code",
      "metadata": {
        "id": "W_lyBJFUGsw2",
        "outputId": "d57af3fa-778d-4e9a-f5e2-a20321133f02",
        "colab": {
          "base_uri": "https://localhost:8080/"
        }
      },
      "source": [
        "features = {}\n",
        "for i in range(len(header)):\n",
        "  features[i]= header[i]\n",
        "#all features = ['age', 'job', 'marital', 'education', 'default', 'balance', 'housing', 'loan', 'contact', 'day', 'month', 'duration', 'campaign', 'y']\n",
        "numeric_values = ['age', 'balance',  'day', 'duration', 'campaign']\n",
        "binary = ['default', 'housing', 'loan','y']\n",
        "samples = np.zeros(data.shape,dtype = np.int32)\n",
        "categories = {}\n",
        " \n",
        "for i in range(len(header)):\n",
        "  num = {}\n",
        "  if features[i] not in numeric_values:\n",
        "    if features[i] in binary:\n",
        "      num['yes'] = 1\n",
        "      num['no'] = 0\n",
        "    elif features[i] == 'month':\n",
        "      num = { 'jan': 1, 'feb': 2, 'mar': 3,'apr': 4, 'may': 5,'jun': 6,   'jul': 7, 'aug': 8, 'sep':9, 'oct': 10, 'nov': 11, 'dec': 12}\n",
        "    else:\n",
        "      values = list(set(data[features[i]]))\n",
        "      \n",
        "      for j in range(len(values)):\n",
        "        num[values[j]]= j\n",
        "    categories[i] = num\n",
        "\n",
        "\n"
      ],
      "execution_count": 3,
      "outputs": [
        {
          "output_type": "stream",
          "text": [
            "['age', 'job', 'marital', 'education', 'default', 'balance', 'housing', 'loan', 'contact', 'day', 'month', 'duration', 'campaign', 'y']\n"
          ],
          "name": "stdout"
        }
      ]
    },
    {
      "cell_type": "code",
      "metadata": {
        "id": "mvrxXHO6mgLt"
      },
      "source": [
        "#data is tranfsformed into its numerical equivalent\n",
        "for i in range(len(header)):\n",
        "  feat = list(data[features[i]])\n",
        "  try:\n",
        "    dct = categories[i]\n",
        "    for j in range(len(feat)):\n",
        "      samples[j][i] = dct[feat[j]]\n",
        "\n",
        "  except KeyError:\n",
        "    for j in range(len(feat)):\n",
        "      samples[j][i] = feat[j]\n",
        "\n",
        "np.random.shuffle(samples)\n",
        "train = samples[:36000]\n",
        "test = samples[36000:]\n"
      ],
      "execution_count": 4,
      "outputs": []
    },
    {
      "cell_type": "code",
      "metadata": {
        "id": "SF-feWkvK_4u"
      },
      "source": [
        "labels = train[:,-1]\n",
        "smp = train[:,:-1]"
      ],
      "execution_count": 5,
      "outputs": []
    },
    {
      "cell_type": "code",
      "metadata": {
        "id": "skSuFeNDc9qg"
      },
      "source": [
        "#various classifiers are evaluated before choosing the top 5\n",
        "# following the evalation score will be calculated as the average score for all classifiers\n",
        "cls_dict = {}\n",
        "sgd = SGDClassifier()\n",
        "cls_dict['sgd'] = sgd\n",
        "bernb = BernoulliNB()\n",
        "cls_dict['bernb'] = bernb\n",
        "#gaussnb = GaussianNB()\n",
        "#cls_dict['gaussnb'] = gaussnb\n",
        "knn = KNeighborsClassifier()\n",
        "cls_dict['knn'] = knn \n",
        "svc = SVC()\n",
        "cls_dict['svc'] = svc \n",
        "#dt =  DecisionTreeClassifier(max_depth=6)\n",
        "#cls_dict['dt'] = dt \n",
        "#rf =  RandomForestClassifier(max_depth=6)\n",
        "#cls_dict['rf'] = rf\n",
        "nn = MLPClassifier(max_iter=1000)\n",
        "cls_dict['nn'] = nn \n",
        "\n",
        "classifiers = list(cls_dict.values())\n",
        "\n",
        "def train_and_test(clsifiers,xtrain,ytrain,xtest,ytest):\n",
        "  n =len(clsifiers)\n",
        "  scores = np.zeros(n)\n",
        "  for i in range(n):\n",
        "    c = clsifiers[i]\n",
        "    c.fit(xtrain, ytrain)\n",
        "    score = c.score(xtest, ytest)\n",
        "    scores[i] = score\n",
        "  return np.average(scores)\n"
      ],
      "execution_count": 6,
      "outputs": []
    },
    {
      "cell_type": "code",
      "metadata": {
        "id": "tVnOiWl-Yl_i"
      },
      "source": [
        "#Average accuracy is calculated through cross validation. Due to the fact that \n",
        "#we are dealing with an imbalanced dataset StratifiedKFold is used to ensure \n",
        "#that the original ratio of the two classes is maintained for each fold.\n",
        "\n",
        "folds = 5\n",
        "skf = StratifiedKFold(n_splits=folds)\n",
        "k=0\n",
        "results = np.zeros(folds)\n",
        "for i,j in skf.split(smp,labels):\n",
        "  train_X, test_X = smp[i], smp[j]\n",
        "  train_y, test_y = labels[i], labels[j]\n",
        "  results[k] = train_and_test(classifiers,train_X,train_y,test_X, test_y)\n",
        "  k+=1\n",
        "\n",
        "accuracy = np.average(results)"
      ],
      "execution_count": 17,
      "outputs": []
    },
    {
      "cell_type": "code",
      "metadata": {
        "id": "oSAbrqixJVlu"
      },
      "source": [
        "#final evaluation on test data\n",
        "test_labels = test[:,-1]\n",
        "test_smp = test[:,:-1]\n",
        "def predict(clf,x):  \n",
        "  x=x.reshape(1, -1)\n",
        "  s = 0 \n",
        "  for c in clf:\n",
        "    y = c.predict(x)\n",
        "    s+= y\n",
        "  p = np.round(s/len(clf))\n",
        "  if p == 1:\n",
        "    confidence = s/len(clf)\n",
        "  elif p == 0:\n",
        "    confidence = 1 -s/len(clf)\n",
        "  return p, confidence\n",
        "\n",
        "#evaluating models\n",
        "s = 0\n",
        "for i in range(len(test_smp)):\n",
        "  p,c = predict(classifiers,test_smp[i])\n",
        "  if p==test_labels[i]:\n",
        "    s+=1\n",
        "\n",
        "test_acc = s/len(test_smp)\n",
        "print(test_acc)"
      ],
      "execution_count": 8,
      "outputs": []
    },
    {
      "cell_type": "code",
      "metadata": {
        "id": "blQ91gd4hkRN",
        "outputId": "7d143d30-4be8-42a5-b573-049da079acd1",
        "colab": {
          "base_uri": "https://localhost:8080/"
        }
      },
      "source": [
        "# customers most probable to buy an investment product\n",
        "# Confidence is based on the number of classifiers that agree will the final resut.\n",
        "# Since for a class to be selected it must have the vote of at least 3 classifiers and it can have at most 5 votes (all classifiers), therefore  confidence varies between 0.6 to 1.0.\n",
        "# After the customers that are probable to buy an investment are identified, they are sorted according to the confidence in classification.\n",
        "\n",
        "approved = {}\n",
        "for i in range(len(test_smp)):\n",
        "  p,c = predict(classifiers,test_smp[i])\n",
        "  if p == 1:\n",
        "    approved[i] = c\n",
        "\n",
        "final = sorted(approved.items(), key=lambda kv: kv[1],reverse = True)\n",
        "top = final[:20]\n",
        "for t in top:\n",
        "  print('Index:\\t'+ str(t[0]) + '\\n\\tProbability:\\t'+ str(t[1][0])+'\\n')\n"
      ],
      "execution_count": 16,
      "outputs": [
        {
          "output_type": "stream",
          "text": [
            "Index:\t1679\n",
            "\tProbability:\t0.8\n",
            "\n",
            "Index:\t17\n",
            "\tProbability:\t0.6\n",
            "\n",
            "Index:\t132\n",
            "\tProbability:\t0.6\n",
            "\n",
            "Index:\t137\n",
            "\tProbability:\t0.6\n",
            "\n",
            "Index:\t448\n",
            "\tProbability:\t0.6\n",
            "\n",
            "Index:\t556\n",
            "\tProbability:\t0.6\n",
            "\n",
            "Index:\t561\n",
            "\tProbability:\t0.6\n",
            "\n",
            "Index:\t630\n",
            "\tProbability:\t0.6\n",
            "\n",
            "Index:\t734\n",
            "\tProbability:\t0.6\n",
            "\n",
            "Index:\t752\n",
            "\tProbability:\t0.6\n",
            "\n",
            "Index:\t876\n",
            "\tProbability:\t0.6\n",
            "\n",
            "Index:\t1145\n",
            "\tProbability:\t0.6\n",
            "\n",
            "Index:\t1282\n",
            "\tProbability:\t0.6\n",
            "\n",
            "Index:\t1291\n",
            "\tProbability:\t0.6\n",
            "\n",
            "Index:\t1334\n",
            "\tProbability:\t0.6\n",
            "\n",
            "Index:\t1359\n",
            "\tProbability:\t0.6\n",
            "\n",
            "Index:\t1409\n",
            "\tProbability:\t0.6\n",
            "\n",
            "Index:\t1413\n",
            "\tProbability:\t0.6\n",
            "\n",
            "Index:\t1513\n",
            "\tProbability:\t0.6\n",
            "\n",
            "Index:\t1556\n",
            "\tProbability:\t0.6\n",
            "\n"
          ],
          "name": "stdout"
        }
      ]
    },
    {
      "cell_type": "code",
      "metadata": {
        "id": "qF6INjrSjpk_",
        "outputId": "7bb00786-02fd-4aea-b54f-7dde5cd423f4",
        "colab": {
          "base_uri": "https://localhost:8080/"
        }
      },
      "source": [
        "#To find the most relevant features decision trees are used. The higher the score the more important is a feature. \n",
        "#The trees are built several times to obtain a more accurate score based on the average of all the runs.\n",
        "#In the end features are sorted according to their score.\n",
        "dtclf = ExtraTreesClassifier(n_estimators=10)\n",
        "n_runs = 10\n",
        "pts = np.zeros(smp.shape[1])  #number of features\n",
        "for i in range(n_runs):\n",
        "  dtclf.fit(test_smp, test_labels)\n",
        "  pts += dtclf.feature_importances_\n",
        "\n",
        "pts = np.divide(pts,n_runs)\n",
        "\n",
        "\n",
        "feature_importance = {}\n",
        "for h in range(len(header)-1):\n",
        "  feature_importance[header[h]] = pts[h]\n",
        "\n",
        "sorted_feature_importance = sorted(feature_importance.items(), key=lambda kv: kv[1],reverse = True)\n",
        "for tup in sorted_feature_importance:\n",
        "  print('Feature:\\t'+ tup[0] + '\\n\\tScore:\\t'+ str(tup[1])+'\\n')"
      ],
      "execution_count": 12,
      "outputs": [
        {
          "output_type": "stream",
          "text": [
            "Feature:\tduration\n",
            "\tScore:\t0.34207190820997674\n",
            "\n",
            "Feature:\tage\n",
            "\tScore:\t0.10173567687024625\n",
            "\n",
            "Feature:\tday\n",
            "\tScore:\t0.09866619286825086\n",
            "\n",
            "Feature:\tbalance\n",
            "\tScore:\t0.09772042328262333\n",
            "\n",
            "Feature:\tmonth\n",
            "\tScore:\t0.08813337294846087\n",
            "\n",
            "Feature:\tjob\n",
            "\tScore:\t0.06661890238749578\n",
            "\n",
            "Feature:\tcampaign\n",
            "\tScore:\t0.06458157220617229\n",
            "\n",
            "Feature:\teducation\n",
            "\tScore:\t0.040702984266063336\n",
            "\n",
            "Feature:\tmarital\n",
            "\tScore:\t0.03334754486450181\n",
            "\n",
            "Feature:\tcontact\n",
            "\tScore:\t0.024829719983953374\n",
            "\n",
            "Feature:\thousing\n",
            "\tScore:\t0.02018343795028625\n",
            "\n",
            "Feature:\tloan\n",
            "\tScore:\t0.015506264606576156\n",
            "\n",
            "Feature:\tdefault\n",
            "\tScore:\t0.005901999555392961\n",
            "\n"
          ],
          "name": "stdout"
        }
      ]
    },
    {
      "cell_type": "code",
      "metadata": {
        "id": "F7RKAZYJ0E66"
      },
      "source": [
        ""
      ],
      "execution_count": null,
      "outputs": []
    }
  ]
}